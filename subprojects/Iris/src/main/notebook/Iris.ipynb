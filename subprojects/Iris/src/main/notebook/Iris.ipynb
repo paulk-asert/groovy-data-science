{
 "cells": [
  {
   "cell_type": "markdown",
   "metadata": {},
   "source": [
    "# Iris flower classification using KNN Regression\n",
    "\n",
    "This example uses the [classic Iris flower species](https://archive.ics.uci.edu/ml/machine-learning-databases/iris/) dataset.\n",
    "It captures petal length and width, sepal length and width and known class for 150 samples of three species.\n",
    "\n",
    "We'll use [Tablesaw](https://jtablesaw.github.io/tablesaw/) to store and manipulate our data\n",
    "and the KNN regression class from the [Smile](http://haifengl.github.io/) machine learning library.\n",
    "So, we'll add those libraries to the classpath."
   ]
  },
  {
   "cell_type": "code",
   "execution_count": 1,
   "metadata": {},
   "outputs": [
    {
     "data": {
      "application/vnd.jupyter.widget-view+json": {
       "model_id": "",
       "version_major": 2,
       "version_minor": 0
      },
      "method": "display_data"
     },
     "metadata": {},
     "output_type": "display_data"
    },
    {
     "data": {
      "application/vnd.jupyter.widget-view+json": {
       "model_id": "79d280a9-221f-4930-bad7-64f19181214c",
       "version_major": 2,
       "version_minor": 0
      },
      "method": "display_data"
     },
     "metadata": {},
     "output_type": "display_data"
    }
   ],
   "source": [
    "%%classpath add mvn\n",
    "tech.tablesaw tablesaw-beakerx 0.38.2\n",
    "tech.tablesaw tablesaw-aggregate 0.38.2\n",
    "com.github.haifengl smile-core 2.5.3"
   ]
  },
  {
   "cell_type": "markdown",
   "metadata": {},
   "source": [
    "And add some associated imports."
   ]
  },
  {
   "cell_type": "code",
   "execution_count": 2,
   "metadata": {},
   "outputs": [],
   "source": [
    "%import smile.classification.KNN\n",
    "%import smile.validation.ConfusionMatrix\n",
    "%import smile.validation.CrossValidation\n",
    "%import tech.tablesaw.api.StringColumn\n",
    "%import tech.tablesaw.api.Table\n",
    "%import static tech.tablesaw.aggregate.AggregateFunctions.*"
   ]
  },
  {
   "cell_type": "markdown",
   "metadata": {},
   "source": [
    "We'll also enable a BeakerX display widget for Tablesaw tables."
   ]
  },
  {
   "cell_type": "code",
   "execution_count": 3,
   "metadata": {},
   "outputs": [],
   "source": [
    "tech.tablesaw.beakerx.TablesawDisplayer.register()\n",
    "OutputCell.HIDDEN"
   ]
  },
  {
   "cell_type": "markdown",
   "metadata": {},
   "source": [
    "We start by loading data and printing its shape and structure."
   ]
  },
  {
   "cell_type": "code",
   "execution_count": 4,
   "metadata": {},
   "outputs": [
    {
     "data": {
      "application/vnd.jupyter.widget-view+json": {
       "model_id": "0950f4df-06a0-4960-946f-293d65d2b732",
       "version_major": 2,
       "version_minor": 0
      },
      "method": "display_data"
     },
     "metadata": {},
     "output_type": "display_data"
    }
   ],
   "source": [
    "rows = Table.read().csv(\"../resources/iris_data.csv\")"
   ]
  },
  {
   "cell_type": "code",
   "execution_count": 5,
   "metadata": {},
   "outputs": [
    {
     "data": {
      "text/plain": [
       "150 rows X 5 cols"
      ]
     },
     "execution_count": 5,
     "metadata": {},
     "output_type": "execute_result"
    }
   ],
   "source": [
    "rows.shape()"
   ]
  },
  {
   "cell_type": "code",
   "execution_count": 6,
   "metadata": {},
   "outputs": [
    {
     "data": {
      "application/vnd.jupyter.widget-view+json": {
       "model_id": "22d29084-ec6d-418e-b636-d3efcfee91b0",
       "version_major": 2,
       "version_minor": 0
      },
      "method": "display_data"
     },
     "metadata": {},
     "output_type": "display_data"
    }
   ],
   "source": [
    "rows.structure()"
   ]
  },
  {
   "cell_type": "code",
   "execution_count": 7,
   "metadata": {},
   "outputs": [
    {
     "data": {
      "application/vnd.jupyter.widget-view+json": {
       "model_id": "1d10d645-2c4c-465a-bade-b297afaf7b1c",
       "version_major": 2,
       "version_minor": 0
      },
      "method": "display_data"
     },
     "metadata": {},
     "output_type": "display_data"
    }
   ],
   "source": [
    "rows.xTabCounts('Class')"
   ]
  },
  {
   "cell_type": "markdown",
   "metadata": {},
   "source": [
    "Let's also check stats for the columns."
   ]
  },
  {
   "cell_type": "code",
   "execution_count": 8,
   "metadata": {},
   "outputs": [
    {
     "name": "stdout",
     "output_type": "stream",
     "text": [
      "                                  iris_data.csv summary                                  \n",
      "      Class       |  Mean [Sepal length]  |  Min [Sepal length]  |  Max [Sepal length]  |\n",
      "-----------------------------------------------------------------------------------------\n",
      "     Iris-setosa  |                5.006  |                 4.3  |                 5.8  |\n",
      " Iris-versicolor  |                5.936  |                 4.9  |                   7  |\n",
      "  Iris-virginica  |                6.588  |                 4.9  |                 7.9  |\n",
      "                                iris_data.csv summary                                 \n",
      "      Class       |  Mean [Sepal width]  |  Min [Sepal width]  |  Max [Sepal width]  |\n",
      "--------------------------------------------------------------------------------------\n",
      "     Iris-setosa  |               3.418  |                2.3  |                4.4  |\n",
      " Iris-versicolor  |                2.77  |                  2  |                3.4  |\n",
      "  Iris-virginica  |               2.974  |                2.2  |                3.8  |\n",
      "                                  iris_data.csv summary                                  \n",
      "      Class       |  Mean [Petal length]  |  Min [Petal length]  |  Max [Petal length]  |\n",
      "-----------------------------------------------------------------------------------------\n",
      "     Iris-setosa  |                1.464  |                   1  |                 1.9  |\n",
      " Iris-versicolor  |                 4.26  |                   3  |                 5.1  |\n",
      "  Iris-virginica  |                5.552  |                 4.5  |                 6.9  |\n",
      "                                iris_data.csv summary                                 \n",
      "      Class       |  Mean [Petal width]  |  Min [Petal width]  |  Max [Petal width]  |\n",
      "--------------------------------------------------------------------------------------\n",
      "     Iris-setosa  |               0.244  |                0.1  |                0.6  |\n",
      " Iris-versicolor  |               1.326  |                  1  |                1.8  |\n",
      "  Iris-virginica  |               2.026  |                1.4  |                2.5  |\n"
     ]
    }
   ],
   "source": [
    "def cols = ['Sepal length', 'Sepal width', 'Petal length', 'Petal width']\n",
    "(0..<cols.size()).each {\n",
    "    println rows.summarize(cols[it], mean, min, max).by('Class')\n",
    "}\n",
    "OutputCell.HIDDEN"
   ]
  },
  {
   "cell_type": "markdown",
   "metadata": {},
   "source": [
    "Munge the data to get it into the right form and pass it to our classifier."
   ]
  },
  {
   "cell_type": "code",
   "execution_count": 9,
   "metadata": {},
   "outputs": [],
   "source": [
    "species = ['Iris-setosa', 'Iris-versicolor', 'Iris-virginica']\n",
    "def iris = rows.smile().toDataFrame()\n",
    "def features = iris.drop(\"Class\").toArray()\n",
    "classes = iris.column(\"Class\").toStringArray()\n",
    "classIndexs = classes.collect{ species.indexOf(it) } as int[]\n",
    "predictions = CrossValidation.classification(10, features, classIndexs) { x, y -> KNN.fit(x, y, 3) }\n",
    "OutputCell.HIDDEN"
   ]
  },
  {
   "cell_type": "code",
   "execution_count": 10,
   "metadata": {},
   "outputs": [
    {
     "data": {
      "text/plain": [
       "ROW=truth and COL=predicted\n",
       "class  0 |      50 |       0 |       0 |\n",
       "class  1 |       0 |      47 |       3 |\n",
       "class  2 |       0 |       2 |      48 |"
      ]
     },
     "execution_count": 10,
     "metadata": {},
     "output_type": "execute_result"
    }
   ],
   "source": [
    "def results = []\n",
    "predictions.eachWithIndex{ predictedClass, idx ->\n",
    "    def (actual, predicted) = [classes[idx], species[predictedClass]]\n",
    "    results << (actual == predicted ? predicted : \"$predicted/$actual\".toString())\n",
    "}\n",
    "rows = rows.addColumns(StringColumn.create('Result', results))\n",
    "ConfusionMatrix.of(classIndexs, predictions)"
   ]
  },
  {
   "cell_type": "code",
   "execution_count": 11,
   "metadata": {},
   "outputs": [
    {
     "data": {
      "application/vnd.jupyter.widget-view+json": {
       "model_id": "7e32845b-0ff8-4343-920b-181eda0455ce",
       "version_major": 2,
       "version_minor": 0
      },
      "method": "display_data"
     },
     "metadata": {},
     "output_type": "display_data"
    }
   ],
   "source": [
    "def predictedClasses = rows.column('Result').toList().toUnique()\n",
    "plot = new Plot(title: 'Iris predicted[/actual] species', xBound: [0, 7.5], yBound: [0, 3],\n",
    "                xLabel: 'Petal length', yLabel: 'Petal width')\n",
    "predictedClasses.each { prediction ->\n",
    "    def xs = rows.column('Petal length').where(rows.column('Result').isEqualTo(prediction)).toList()\n",
    "    def ys = rows.column('Petal width').where(rows.column('Result').isEqualTo(prediction)).toList()\n",
    "    plot << new Points(x: xs, y: ys, displayName: prediction)\n",
    "}\n",
    "plot"
   ]
  }
 ],
 "metadata": {
  "kernelspec": {
   "display_name": "Groovy",
   "language": "groovy",
   "name": "groovy"
  },
  "language_info": {
   "codemirror_mode": "groovy",
   "file_extension": ".groovy",
   "mimetype": "",
   "name": "Groovy",
   "nbconverter_exporter": "",
   "version": "2.5.6"
  },
  "toc": {
   "base_numbering": 1,
   "nav_menu": {},
   "number_sections": false,
   "sideBar": false,
   "skip_h1_title": false,
   "title_cell": "Table of Contents",
   "title_sidebar": "Contents",
   "toc_cell": false,
   "toc_position": {},
   "toc_section_display": false,
   "toc_window_display": false
  }
 },
 "nbformat": 4,
 "nbformat_minor": 2
}
